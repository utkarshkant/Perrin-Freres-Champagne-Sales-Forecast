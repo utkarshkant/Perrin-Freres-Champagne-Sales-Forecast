{
  "nbformat": 4,
  "nbformat_minor": 0,
  "metadata": {
    "kernelspec": {
      "name": "python3",
      "display_name": "Python 3"
    },
    "language_info": {
      "codemirror_mode": {
        "name": "ipython",
        "version": 3
      },
      "file_extension": ".py",
      "mimetype": "text/x-python",
      "name": "python",
      "nbconvert_exporter": "python",
      "pygments_lexer": "ipython3",
      "version": "3.6.8"
    },
    "colab": {
      "name": "Perrin Freres Monthly Champagne Sales Forecast_RNN.ipynb",
      "provenance": [],
      "collapsed_sections": []
    },
    "accelerator": "GPU"
  },
  "cells": [
    {
      "cell_type": "markdown",
      "metadata": {
        "id": "sp4CpTCZjZt5",
        "colab_type": "text"
      },
      "source": [
        "# Perrin Freres Monthly Champagne Sales Forecast\n",
        "\n",
        "### Objective\n",
        "Create a time-series model to forecast the sales values for Perrin Freres Champagne for the next 12 months in the future"
      ]
    },
    {
      "cell_type": "code",
      "metadata": {
        "id": "eYNA7ZRGjZt8",
        "colab_type": "code",
        "colab": {}
      },
      "source": [
        "# import libraries\n",
        "import pandas as pd\n",
        "import numpy as np\n",
        "import matplotlib.pyplot as plt\n",
        "import seaborn as sns\n",
        "\n",
        "# configurations\n",
        "sns.set_style(\"whitegrid\")\n",
        "\n",
        "# Ignore harmless warnings\n",
        "import warnings\n",
        "warnings.filterwarnings(\"ignore\")"
      ],
      "execution_count": 0,
      "outputs": []
    },
    {
      "cell_type": "code",
      "metadata": {
        "id": "P1JhCZ22jb2D",
        "colab_type": "code",
        "outputId": "90e0f404-fcb2-4eaf-b3a8-d4c4a909a556",
        "colab": {
          "resources": {
            "http://localhost:8080/nbextensions/google.colab/files.js": {
              "data": "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",
              "ok": true,
              "headers": [
                [
                  "content-type",
                  "application/javascript"
                ]
              ],
              "status": 200,
              "status_text": ""
            }
          },
          "base_uri": "https://localhost:8080/",
          "height": 75
        }
      },
      "source": [
        "# import dataset\n",
        "from google.colab import files\n",
        "uploaded = files.upload()"
      ],
      "execution_count": 3,
      "outputs": [
        {
          "output_type": "display_data",
          "data": {
            "text/html": [
              "\n",
              "     <input type=\"file\" id=\"files-79539f71-3c46-4dc0-b6f7-2fa34567dccc\" name=\"files[]\" multiple disabled />\n",
              "     <output id=\"result-79539f71-3c46-4dc0-b6f7-2fa34567dccc\">\n",
              "      Upload widget is only available when the cell has been executed in the\n",
              "      current browser session. Please rerun this cell to enable.\n",
              "      </output>\n",
              "      <script src=\"/nbextensions/google.colab/files.js\"></script> "
            ],
            "text/plain": [
              "<IPython.core.display.HTML object>"
            ]
          },
          "metadata": {
            "tags": []
          }
        },
        {
          "output_type": "stream",
          "text": [
            "Saving perrin-freres-monthly-champagne-.csv to perrin-freres-monthly-champagne-.csv\n"
          ],
          "name": "stdout"
        }
      ]
    },
    {
      "cell_type": "code",
      "metadata": {
        "id": "d1TDOD5njZuC",
        "colab_type": "code",
        "colab": {}
      },
      "source": [
        "# load dataset\n",
        "df = pd.read_csv(\"perrin-freres-monthly-champagne-.csv\")"
      ],
      "execution_count": 0,
      "outputs": []
    },
    {
      "cell_type": "code",
      "metadata": {
        "id": "qzXPaBtqjZuF",
        "colab_type": "code",
        "outputId": "9c7d5d20-99b1-4e6b-fdf1-24098fcd64b6",
        "colab": {
          "base_uri": "https://localhost:8080/",
          "height": 202
        }
      },
      "source": [
        "# preview dataset\n",
        "df.head()"
      ],
      "execution_count": 5,
      "outputs": [
        {
          "output_type": "execute_result",
          "data": {
            "text/html": [
              "<div>\n",
              "<style scoped>\n",
              "    .dataframe tbody tr th:only-of-type {\n",
              "        vertical-align: middle;\n",
              "    }\n",
              "\n",
              "    .dataframe tbody tr th {\n",
              "        vertical-align: top;\n",
              "    }\n",
              "\n",
              "    .dataframe thead th {\n",
              "        text-align: right;\n",
              "    }\n",
              "</style>\n",
              "<table border=\"1\" class=\"dataframe\">\n",
              "  <thead>\n",
              "    <tr style=\"text-align: right;\">\n",
              "      <th></th>\n",
              "      <th>Month</th>\n",
              "      <th>\\tPerrin Freres monthly champagne sales millions ?64-?72</th>\n",
              "    </tr>\n",
              "  </thead>\n",
              "  <tbody>\n",
              "    <tr>\n",
              "      <th>0</th>\n",
              "      <td>1964-01</td>\n",
              "      <td>2815.0</td>\n",
              "    </tr>\n",
              "    <tr>\n",
              "      <th>1</th>\n",
              "      <td>1964-02</td>\n",
              "      <td>2672.0</td>\n",
              "    </tr>\n",
              "    <tr>\n",
              "      <th>2</th>\n",
              "      <td>1964-03</td>\n",
              "      <td>2755.0</td>\n",
              "    </tr>\n",
              "    <tr>\n",
              "      <th>3</th>\n",
              "      <td>1964-04</td>\n",
              "      <td>2721.0</td>\n",
              "    </tr>\n",
              "    <tr>\n",
              "      <th>4</th>\n",
              "      <td>1964-05</td>\n",
              "      <td>2946.0</td>\n",
              "    </tr>\n",
              "  </tbody>\n",
              "</table>\n",
              "</div>"
            ],
            "text/plain": [
              "     Month  \\tPerrin Freres monthly champagne sales millions ?64-?72\n",
              "0  1964-01                                             2815.0       \n",
              "1  1964-02                                             2672.0       \n",
              "2  1964-03                                             2755.0       \n",
              "3  1964-04                                             2721.0       \n",
              "4  1964-05                                             2946.0       "
            ]
          },
          "metadata": {
            "tags": []
          },
          "execution_count": 5
        }
      ]
    },
    {
      "cell_type": "code",
      "metadata": {
        "id": "Pt2_p-hkjZuJ",
        "colab_type": "code",
        "colab": {}
      },
      "source": [
        "# update feature names\n",
        "df.columns = ['Month','Sales']"
      ],
      "execution_count": 0,
      "outputs": []
    },
    {
      "cell_type": "code",
      "metadata": {
        "id": "Ty5WhCWgjZuM",
        "colab_type": "code",
        "outputId": "038e731c-2f43-4fc7-a3e4-3a556b1fc3d5",
        "colab": {
          "base_uri": "https://localhost:8080/",
          "height": 202
        }
      },
      "source": [
        "# preview dataset\n",
        "df.head()"
      ],
      "execution_count": 7,
      "outputs": [
        {
          "output_type": "execute_result",
          "data": {
            "text/html": [
              "<div>\n",
              "<style scoped>\n",
              "    .dataframe tbody tr th:only-of-type {\n",
              "        vertical-align: middle;\n",
              "    }\n",
              "\n",
              "    .dataframe tbody tr th {\n",
              "        vertical-align: top;\n",
              "    }\n",
              "\n",
              "    .dataframe thead th {\n",
              "        text-align: right;\n",
              "    }\n",
              "</style>\n",
              "<table border=\"1\" class=\"dataframe\">\n",
              "  <thead>\n",
              "    <tr style=\"text-align: right;\">\n",
              "      <th></th>\n",
              "      <th>Month</th>\n",
              "      <th>Sales</th>\n",
              "    </tr>\n",
              "  </thead>\n",
              "  <tbody>\n",
              "    <tr>\n",
              "      <th>0</th>\n",
              "      <td>1964-01</td>\n",
              "      <td>2815.0</td>\n",
              "    </tr>\n",
              "    <tr>\n",
              "      <th>1</th>\n",
              "      <td>1964-02</td>\n",
              "      <td>2672.0</td>\n",
              "    </tr>\n",
              "    <tr>\n",
              "      <th>2</th>\n",
              "      <td>1964-03</td>\n",
              "      <td>2755.0</td>\n",
              "    </tr>\n",
              "    <tr>\n",
              "      <th>3</th>\n",
              "      <td>1964-04</td>\n",
              "      <td>2721.0</td>\n",
              "    </tr>\n",
              "    <tr>\n",
              "      <th>4</th>\n",
              "      <td>1964-05</td>\n",
              "      <td>2946.0</td>\n",
              "    </tr>\n",
              "  </tbody>\n",
              "</table>\n",
              "</div>"
            ],
            "text/plain": [
              "     Month   Sales\n",
              "0  1964-01  2815.0\n",
              "1  1964-02  2672.0\n",
              "2  1964-03  2755.0\n",
              "3  1964-04  2721.0\n",
              "4  1964-05  2946.0"
            ]
          },
          "metadata": {
            "tags": []
          },
          "execution_count": 7
        }
      ]
    },
    {
      "cell_type": "code",
      "metadata": {
        "id": "rzKZ6j1jjZuP",
        "colab_type": "code",
        "outputId": "bfc87806-47c4-4f86-995e-45f1cfba0bca",
        "colab": {
          "base_uri": "https://localhost:8080/",
          "height": 202
        }
      },
      "source": [
        "df.tail()"
      ],
      "execution_count": 8,
      "outputs": [
        {
          "output_type": "execute_result",
          "data": {
            "text/html": [
              "<div>\n",
              "<style scoped>\n",
              "    .dataframe tbody tr th:only-of-type {\n",
              "        vertical-align: middle;\n",
              "    }\n",
              "\n",
              "    .dataframe tbody tr th {\n",
              "        vertical-align: top;\n",
              "    }\n",
              "\n",
              "    .dataframe thead th {\n",
              "        text-align: right;\n",
              "    }\n",
              "</style>\n",
              "<table border=\"1\" class=\"dataframe\">\n",
              "  <thead>\n",
              "    <tr style=\"text-align: right;\">\n",
              "      <th></th>\n",
              "      <th>Month</th>\n",
              "      <th>Sales</th>\n",
              "    </tr>\n",
              "  </thead>\n",
              "  <tbody>\n",
              "    <tr>\n",
              "      <th>102</th>\n",
              "      <td>1972-07</td>\n",
              "      <td>4298.0</td>\n",
              "    </tr>\n",
              "    <tr>\n",
              "      <th>103</th>\n",
              "      <td>1972-08</td>\n",
              "      <td>1413.0</td>\n",
              "    </tr>\n",
              "    <tr>\n",
              "      <th>104</th>\n",
              "      <td>1972-09</td>\n",
              "      <td>5877.0</td>\n",
              "    </tr>\n",
              "    <tr>\n",
              "      <th>105</th>\n",
              "      <td>NaN</td>\n",
              "      <td>NaN</td>\n",
              "    </tr>\n",
              "    <tr>\n",
              "      <th>106</th>\n",
              "      <td>Perrin Freres monthly champagne sales millions...</td>\n",
              "      <td>NaN</td>\n",
              "    </tr>\n",
              "  </tbody>\n",
              "</table>\n",
              "</div>"
            ],
            "text/plain": [
              "                                                 Month   Sales\n",
              "102                                            1972-07  4298.0\n",
              "103                                            1972-08  1413.0\n",
              "104                                            1972-09  5877.0\n",
              "105                                                NaN     NaN\n",
              "106  Perrin Freres monthly champagne sales millions...     NaN"
            ]
          },
          "metadata": {
            "tags": []
          },
          "execution_count": 8
        }
      ]
    },
    {
      "cell_type": "code",
      "metadata": {
        "id": "lyYmpNEgjZuV",
        "colab_type": "code",
        "colab": {}
      },
      "source": [
        "# drop last 2 rows\n",
        "df.drop(df.tail(2).index, inplace=True)"
      ],
      "execution_count": 0,
      "outputs": []
    },
    {
      "cell_type": "code",
      "metadata": {
        "id": "mjGQj0KyjZuZ",
        "colab_type": "code",
        "colab": {}
      },
      "source": [
        "# update datetime\n",
        "df['Month'] = pd.to_datetime(df['Month'])\n",
        "\n",
        "# set index\n",
        "df = df.set_index('Month')\n",
        "\n",
        "# set frequency\n",
        "df.index.freq = 'MS'"
      ],
      "execution_count": 0,
      "outputs": []
    },
    {
      "cell_type": "code",
      "metadata": {
        "scrolled": true,
        "id": "tZpkgPO6jZuc",
        "colab_type": "code",
        "outputId": "f143ee8f-8509-4509-f9fa-b98e458a9cd7",
        "colab": {
          "base_uri": "https://localhost:8080/",
          "height": 233
        }
      },
      "source": [
        "# preview dataset\n",
        "df.head()"
      ],
      "execution_count": 11,
      "outputs": [
        {
          "output_type": "execute_result",
          "data": {
            "text/html": [
              "<div>\n",
              "<style scoped>\n",
              "    .dataframe tbody tr th:only-of-type {\n",
              "        vertical-align: middle;\n",
              "    }\n",
              "\n",
              "    .dataframe tbody tr th {\n",
              "        vertical-align: top;\n",
              "    }\n",
              "\n",
              "    .dataframe thead th {\n",
              "        text-align: right;\n",
              "    }\n",
              "</style>\n",
              "<table border=\"1\" class=\"dataframe\">\n",
              "  <thead>\n",
              "    <tr style=\"text-align: right;\">\n",
              "      <th></th>\n",
              "      <th>Sales</th>\n",
              "    </tr>\n",
              "    <tr>\n",
              "      <th>Month</th>\n",
              "      <th></th>\n",
              "    </tr>\n",
              "  </thead>\n",
              "  <tbody>\n",
              "    <tr>\n",
              "      <th>1964-01-01</th>\n",
              "      <td>2815.0</td>\n",
              "    </tr>\n",
              "    <tr>\n",
              "      <th>1964-02-01</th>\n",
              "      <td>2672.0</td>\n",
              "    </tr>\n",
              "    <tr>\n",
              "      <th>1964-03-01</th>\n",
              "      <td>2755.0</td>\n",
              "    </tr>\n",
              "    <tr>\n",
              "      <th>1964-04-01</th>\n",
              "      <td>2721.0</td>\n",
              "    </tr>\n",
              "    <tr>\n",
              "      <th>1964-05-01</th>\n",
              "      <td>2946.0</td>\n",
              "    </tr>\n",
              "  </tbody>\n",
              "</table>\n",
              "</div>"
            ],
            "text/plain": [
              "             Sales\n",
              "Month             \n",
              "1964-01-01  2815.0\n",
              "1964-02-01  2672.0\n",
              "1964-03-01  2755.0\n",
              "1964-04-01  2721.0\n",
              "1964-05-01  2946.0"
            ]
          },
          "metadata": {
            "tags": []
          },
          "execution_count": 11
        }
      ]
    },
    {
      "cell_type": "code",
      "metadata": {
        "id": "TIauKgX2jZug",
        "colab_type": "code",
        "outputId": "d11ae7ef-b1b0-4069-9b37-60f9f62cf2f3",
        "colab": {
          "base_uri": "https://localhost:8080/",
          "height": 233
        }
      },
      "source": [
        "df.tail()"
      ],
      "execution_count": 12,
      "outputs": [
        {
          "output_type": "execute_result",
          "data": {
            "text/html": [
              "<div>\n",
              "<style scoped>\n",
              "    .dataframe tbody tr th:only-of-type {\n",
              "        vertical-align: middle;\n",
              "    }\n",
              "\n",
              "    .dataframe tbody tr th {\n",
              "        vertical-align: top;\n",
              "    }\n",
              "\n",
              "    .dataframe thead th {\n",
              "        text-align: right;\n",
              "    }\n",
              "</style>\n",
              "<table border=\"1\" class=\"dataframe\">\n",
              "  <thead>\n",
              "    <tr style=\"text-align: right;\">\n",
              "      <th></th>\n",
              "      <th>Sales</th>\n",
              "    </tr>\n",
              "    <tr>\n",
              "      <th>Month</th>\n",
              "      <th></th>\n",
              "    </tr>\n",
              "  </thead>\n",
              "  <tbody>\n",
              "    <tr>\n",
              "      <th>1972-05-01</th>\n",
              "      <td>4618.0</td>\n",
              "    </tr>\n",
              "    <tr>\n",
              "      <th>1972-06-01</th>\n",
              "      <td>5312.0</td>\n",
              "    </tr>\n",
              "    <tr>\n",
              "      <th>1972-07-01</th>\n",
              "      <td>4298.0</td>\n",
              "    </tr>\n",
              "    <tr>\n",
              "      <th>1972-08-01</th>\n",
              "      <td>1413.0</td>\n",
              "    </tr>\n",
              "    <tr>\n",
              "      <th>1972-09-01</th>\n",
              "      <td>5877.0</td>\n",
              "    </tr>\n",
              "  </tbody>\n",
              "</table>\n",
              "</div>"
            ],
            "text/plain": [
              "             Sales\n",
              "Month             \n",
              "1972-05-01  4618.0\n",
              "1972-06-01  5312.0\n",
              "1972-07-01  4298.0\n",
              "1972-08-01  1413.0\n",
              "1972-09-01  5877.0"
            ]
          },
          "metadata": {
            "tags": []
          },
          "execution_count": 12
        }
      ]
    },
    {
      "cell_type": "markdown",
      "metadata": {
        "id": "0uAXQr4LjZul",
        "colab_type": "text"
      },
      "source": [
        "# Visualize Dataset"
      ]
    },
    {
      "cell_type": "code",
      "metadata": {
        "id": "34BcoGs9jZum",
        "colab_type": "code",
        "outputId": "1bcfd79c-e3ce-4277-c8e2-388e954dd253",
        "colab": {
          "base_uri": "https://localhost:8080/",
          "height": 459
        }
      },
      "source": [
        "df.plot(figsize=(15,7))"
      ],
      "execution_count": 13,
      "outputs": [
        {
          "output_type": "execute_result",
          "data": {
            "text/plain": [
              "<matplotlib.axes._subplots.AxesSubplot at 0x7f996126a048>"
            ]
          },
          "metadata": {
            "tags": []
          },
          "execution_count": 13
        },
        {
          "output_type": "display_data",
          "data": {
            "image/png": "[encoded data removed]",
            "text/plain": [
              "<Figure size 1080x504 with 1 Axes>"
            ]
          },
          "metadata": {
            "tags": []
          }
        }
      ]
    },
    {
      "cell_type": "markdown",
      "metadata": {
        "id": "bEa7SBI5jZup",
        "colab_type": "text"
      },
      "source": [
        "- there is a updward trend in the dataset\n",
        "- seasonality exists every 12 months"
      ]
    },
    {
      "cell_type": "markdown",
      "metadata": {
        "id": "b0XEp641jZuq",
        "colab_type": "text"
      },
      "source": [
        "## Decompose Dataset"
      ]
    },
    {
      "cell_type": "code",
      "metadata": {
        "id": "XpZdnK8MjZur",
        "colab_type": "code",
        "colab": {}
      },
      "source": [
        "from statsmodels.tsa.seasonal import seasonal_decompose"
      ],
      "execution_count": 0,
      "outputs": []
    },
    {
      "cell_type": "code",
      "metadata": {
        "id": "CT3iuCnQjZuu",
        "colab_type": "code",
        "outputId": "2e85a0c0-cbf8-463f-8a9a-479e026d95ce",
        "colab": {
          "base_uri": "https://localhost:8080/",
          "height": 297
        }
      },
      "source": [
        "decompose = seasonal_decompose(df['Sales'], model='add')\n",
        "decompose.plot();"
      ],
      "execution_count": 15,
      "outputs": [
        {
          "output_type": "display_data",
          "data": {
            "image/png": "[encoded data removed]",
            "text/plain": [
              "<Figure size 432x288 with 4 Axes>"
            ]
          },
          "metadata": {
            "tags": []
          }
        }
      ]
    },
    {
      "cell_type": "code",
      "metadata": {
        "id": "F0FR-LWEjZuw",
        "colab_type": "code",
        "outputId": "94a45c3d-5424-4828-dc90-8503dbd6a328",
        "colab": {
          "base_uri": "https://localhost:8080/",
          "height": 425
        }
      },
      "source": [
        "# plot trend\n",
        "decompose.trend.plot(figsize=(20,6))"
      ],
      "execution_count": 16,
      "outputs": [
        {
          "output_type": "execute_result",
          "data": {
            "text/plain": [
              "<matplotlib.axes._subplots.AxesSubplot at 0x7f995e16e518>"
            ]
          },
          "metadata": {
            "tags": []
          },
          "execution_count": 16
        },
        {
          "output_type": "display_data",
          "data": {
            "image/png": "[encoded data removed]",
            "text/plain": [
              "<Figure size 1440x432 with 1 Axes>"
            ]
          },
          "metadata": {
            "tags": []
          }
        }
      ]
    },
    {
      "cell_type": "code",
      "metadata": {
        "id": "tGbhSZfYjZu0",
        "colab_type": "code",
        "outputId": "bc67a318-f4d6-4ce5-ef75-0323259df822",
        "colab": {
          "base_uri": "https://localhost:8080/",
          "height": 425
        }
      },
      "source": [
        "# plot seasonality\n",
        "decompose.seasonal.plot(figsize=(20,6))"
      ],
      "execution_count": 17,
      "outputs": [
        {
          "output_type": "execute_result",
          "data": {
            "text/plain": [
              "<matplotlib.axes._subplots.AxesSubplot at 0x7f995b85b208>"
            ]
          },
          "metadata": {
            "tags": []
          },
          "execution_count": 17
        },
        {
          "output_type": "display_data",
          "data": {
            "image/png": "[encoded data removed]",
            "text/plain": [
              "<Figure size 1440x432 with 1 Axes>"
            ]
          },
          "metadata": {
            "tags": []
          }
        }
      ]
    },
    {
      "cell_type": "markdown",
      "metadata": {
        "id": "JI05VbnujZu3",
        "colab_type": "text"
      },
      "source": [
        "- seasonality is evident every year\n",
        "- minimal trend is present as well"
      ]
    },
    {
      "cell_type": "markdown",
      "metadata": {
        "id": "KfdWQqI9jZu4",
        "colab_type": "text"
      },
      "source": [
        "# Train-Test Split"
      ]
    },
    {
      "cell_type": "code",
      "metadata": {
        "id": "k_m6K0xtjZu5",
        "colab_type": "code",
        "outputId": "63b46037-4dee-4ced-e547-149e610431cd",
        "colab": {
          "base_uri": "https://localhost:8080/",
          "height": 35
        }
      },
      "source": [
        "len(df)"
      ],
      "execution_count": 18,
      "outputs": [
        {
          "output_type": "execute_result",
          "data": {
            "text/plain": [
              "105"
            ]
          },
          "metadata": {
            "tags": []
          },
          "execution_count": 18
        }
      ]
    },
    {
      "cell_type": "code",
      "metadata": {
        "id": "-Xb8KX5sjZu7",
        "colab_type": "code",
        "colab": {}
      },
      "source": [
        "train = df.iloc[:-12]\n",
        "test = df.iloc[-12:]"
      ],
      "execution_count": 0,
      "outputs": []
    },
    {
      "cell_type": "code",
      "metadata": {
        "id": "wybDyGMnjZu-",
        "colab_type": "code",
        "outputId": "00a9f88d-d66c-4390-aa62-ce67e785594a",
        "colab": {
          "base_uri": "https://localhost:8080/",
          "height": 52
        }
      },
      "source": [
        "print(len(train))\n",
        "print(len(test))"
      ],
      "execution_count": 20,
      "outputs": [
        {
          "output_type": "stream",
          "text": [
            "93\n",
            "12\n"
          ],
          "name": "stdout"
        }
      ]
    },
    {
      "cell_type": "markdown",
      "metadata": {
        "id": "r99W-LO3jZvA",
        "colab_type": "text"
      },
      "source": [
        "# Scale Dataset\n",
        "- We need to normalize the data before feeding it to the neural network"
      ]
    },
    {
      "cell_type": "code",
      "metadata": {
        "id": "hcZDgLtFjZvC",
        "colab_type": "code",
        "colab": {}
      },
      "source": [
        "from sklearn.preprocessing import MinMaxScaler"
      ],
      "execution_count": 0,
      "outputs": []
    },
    {
      "cell_type": "code",
      "metadata": {
        "id": "6P-3z3fHjZvE",
        "colab_type": "code",
        "outputId": "05e6baa2-e42d-446a-de28-790c419a9e8e",
        "colab": {
          "base_uri": "https://localhost:8080/",
          "height": 35
        }
      },
      "source": [
        "scaler = MinMaxScaler()\n",
        "scaler.fit(train)"
      ],
      "execution_count": 22,
      "outputs": [
        {
          "output_type": "execute_result",
          "data": {
            "text/plain": [
              "MinMaxScaler(copy=True, feature_range=(0, 1))"
            ]
          },
          "metadata": {
            "tags": []
          },
          "execution_count": 22
        }
      ]
    },
    {
      "cell_type": "code",
      "metadata": {
        "id": "ULjF3mGfjZvH",
        "colab_type": "code",
        "colab": {}
      },
      "source": [
        "scaled_train = scaler.transform(train)\n",
        "scaled_test = scaler.transform(test)"
      ],
      "execution_count": 0,
      "outputs": []
    },
    {
      "cell_type": "markdown",
      "metadata": {
        "id": "RMQ8rcMvjZvK",
        "colab_type": "text"
      },
      "source": [
        "# Modelling with RNN\n",
        "## Time Series Generator\n",
        "- This class takes in a sequence of data-points gathered at equal intervals, along with time series parameters such as stride, length of history, etc., to produce batches for training/validation."
      ]
    },
    {
      "cell_type": "code",
      "metadata": {
        "id": "v8B4OlzpjZvK",
        "colab_type": "code",
        "outputId": "c7789430-556d-45ea-9089-db73aec9d3ad",
        "colab": {
          "base_uri": "https://localhost:8080/",
          "height": 81
        }
      },
      "source": [
        "from keras.preprocessing.sequence import TimeseriesGenerator"
      ],
      "execution_count": 24,
      "outputs": [
        {
          "output_type": "stream",
          "text": [
            "Using TensorFlow backend.\n"
          ],
          "name": "stderr"
        },
        {
          "output_type": "display_data",
          "data": {
            "text/html": [
              "<p style=\"color: red;\">\n",
              "The default version of TensorFlow in Colab will soon switch to TensorFlow 2.x.<br>\n",
              "We recommend you <a href=\"https://www.tensorflow.org/guide/migrate\" target=\"_blank\">upgrade</a> now \n",
              "or ensure your notebook will continue to use TensorFlow 1.x via the <code>%tensorflow_version 1.x</code> magic:\n",
              "<a href=\"https://colab.research.google.com/notebooks/tensorflow_version.ipynb\" target=\"_blank\">more info</a>.</p>\n"
            ],
            "text/plain": [
              "<IPython.core.display.HTML object>"
            ]
          },
          "metadata": {
            "tags": []
          }
        }
      ]
    },
    {
      "cell_type": "code",
      "metadata": {
        "id": "zr7BBqpgjZvN",
        "colab_type": "code",
        "colab": {}
      },
      "source": [
        "# define generator\n",
        "n_input = 2\n",
        "n_features = 1\n",
        "generator = TimeseriesGenerator(scaled_train, scaled_train, length=n_input, batch_size=1)"
      ],
      "execution_count": 0,
      "outputs": []
    },
    {
      "cell_type": "code",
      "metadata": {
        "id": "24QgomcVjyDP",
        "colab_type": "code",
        "outputId": "4ef98771-c1a5-4608-f691-157a34165c6d",
        "colab": {
          "base_uri": "https://localhost:8080/",
          "height": 35
        }
      },
      "source": [
        "len(scaled_train)"
      ],
      "execution_count": 26,
      "outputs": [
        {
          "output_type": "execute_result",
          "data": {
            "text/plain": [
              "93"
            ]
          },
          "metadata": {
            "tags": []
          },
          "execution_count": 26
        }
      ]
    },
    {
      "cell_type": "code",
      "metadata": {
        "id": "v7qGCvQpK7ZR",
        "colab_type": "code",
        "outputId": "5560212f-70eb-44f2-af0a-d9a3c6c5fb0b",
        "colab": {
          "base_uri": "https://localhost:8080/",
          "height": 35
        }
      },
      "source": [
        "len(generator)  # n_input = 2"
      ],
      "execution_count": 27,
      "outputs": [
        {
          "output_type": "execute_result",
          "data": {
            "text/plain": [
              "91"
            ]
          },
          "metadata": {
            "tags": []
          },
          "execution_count": 27
        }
      ]
    },
    {
      "cell_type": "code",
      "metadata": {
        "id": "80CVd-jOK98n",
        "colab_type": "code",
        "colab": {}
      },
      "source": [
        "# What does the first batch look like?\n",
        "X,y = generator[0]"
      ],
      "execution_count": 0,
      "outputs": []
    },
    {
      "cell_type": "code",
      "metadata": {
        "id": "9qD-vJLXLCJf",
        "colab_type": "code",
        "outputId": "da9c48df-c43c-47a8-eb16-54b79ed1e8b6",
        "colab": {
          "base_uri": "https://localhost:8080/",
          "height": 87
        }
      },
      "source": [
        "print(f'Given the Array: \\n{X.flatten()}')\n",
        "print(f'Predict this y: \\n {y}')"
      ],
      "execution_count": 29,
      "outputs": [
        {
          "output_type": "stream",
          "text": [
            "Given the Array: \n",
            "[0.10062384 0.08903832]\n",
            "Predict this y: \n",
            " [[0.09576278]]\n"
          ],
          "name": "stdout"
        }
      ]
    },
    {
      "cell_type": "code",
      "metadata": {
        "id": "8TQjhCCnLFJe",
        "colab_type": "code",
        "colab": {}
      },
      "source": [
        "# Let's redefine to get 12 months back and then predict the next month out\n",
        "n_input = 12\n",
        "generator = TimeseriesGenerator(scaled_train, scaled_train, length=n_input, batch_size=1)"
      ],
      "execution_count": 0,
      "outputs": []
    },
    {
      "cell_type": "markdown",
      "metadata": {
        "id": "q8X5L46VLNer",
        "colab_type": "text"
      },
      "source": [
        "# Create Model"
      ]
    },
    {
      "cell_type": "code",
      "metadata": {
        "id": "EW35Q2hCLHzl",
        "colab_type": "code",
        "colab": {}
      },
      "source": [
        "from keras.models import Sequential\n",
        "from keras.layers import Dense\n",
        "from keras.layers import LSTM"
      ],
      "execution_count": 0,
      "outputs": []
    },
    {
      "cell_type": "code",
      "metadata": {
        "id": "7OLgOCbBLWbC",
        "colab_type": "code",
        "outputId": "adab9caf-522c-430c-f140-f1a0cc0ddd96",
        "colab": {
          "base_uri": "https://localhost:8080/",
          "height": 384
        }
      },
      "source": [
        "# define model\n",
        "model = Sequential()\n",
        "model.add(LSTM(100, activation='relu', input_shape=(n_input, n_features)))\n",
        "model.add(Dense(1))\n",
        "model.compile(optimizer='adam', loss='mse')\n",
        "model.summary()"
      ],
      "execution_count": 32,
      "outputs": [
        {
          "output_type": "stream",
          "text": [
            "WARNING:tensorflow:From /usr/local/lib/python3.6/dist-packages/keras/backend/tensorflow_backend.py:66: The name tf.get_default_graph is deprecated. Please use tf.compat.v1.get_default_graph instead.\n",
            "\n",
            "WARNING:tensorflow:From /usr/local/lib/python3.6/dist-packages/keras/backend/tensorflow_backend.py:541: The name tf.placeholder is deprecated. Please use tf.compat.v1.placeholder instead.\n",
            "\n",
            "WARNING:tensorflow:From /usr/local/lib/python3.6/dist-packages/keras/backend/tensorflow_backend.py:4432: The name tf.random_uniform is deprecated. Please use tf.random.uniform instead.\n",
            "\n",
            "WARNING:tensorflow:From /usr/local/lib/python3.6/dist-packages/keras/optimizers.py:793: The name tf.train.Optimizer is deprecated. Please use tf.compat.v1.train.Optimizer instead.\n",
            "\n",
            "Model: \"sequential_1\"\n",
            "_________________________________________________________________\n",
            "Layer (type)                 Output Shape              Param #   \n",
            "=================================================================\n",
            "lstm_1 (LSTM)                (None, 100)               40800     \n",
            "_________________________________________________________________\n",
            "dense_1 (Dense)              (None, 1)                 101       \n",
            "=================================================================\n",
            "Total params: 40,901\n",
            "Trainable params: 40,901\n",
            "Non-trainable params: 0\n",
            "_________________________________________________________________\n"
          ],
          "name": "stdout"
        }
      ]
    },
    {
      "cell_type": "code",
      "metadata": {
        "id": "WJz3lL5lLnhO",
        "colab_type": "code",
        "outputId": "d7ab71b9-730f-49b5-c6cc-7949788e89c7",
        "colab": {
          "base_uri": "https://localhost:8080/",
          "height": 1000
        }
      },
      "source": [
        "# fit model\n",
        "model.fit_generator(generator, epochs=50)"
      ],
      "execution_count": 33,
      "outputs": [
        {
          "output_type": "stream",
          "text": [
            "WARNING:tensorflow:From /tensorflow-1.15.0/python3.6/tensorflow_core/python/ops/math_grad.py:1424: where (from tensorflow.python.ops.array_ops) is deprecated and will be removed in a future version.\n",
            "Instructions for updating:\n",
            "Use tf.where in 2.0, which has the same broadcast rule as np.where\n",
            "WARNING:tensorflow:From /usr/local/lib/python3.6/dist-packages/keras/backend/tensorflow_backend.py:1033: The name tf.assign_add is deprecated. Please use tf.compat.v1.assign_add instead.\n",
            "\n",
            "WARNING:tensorflow:From /usr/local/lib/python3.6/dist-packages/keras/backend/tensorflow_backend.py:1020: The name tf.assign is deprecated. Please use tf.compat.v1.assign instead.\n",
            "\n",
            "WARNING:tensorflow:From /usr/local/lib/python3.6/dist-packages/keras/backend/tensorflow_backend.py:3005: The name tf.Session is deprecated. Please use tf.compat.v1.Session instead.\n",
            "\n",
            "Epoch 1/50\n",
            "WARNING:tensorflow:From /usr/local/lib/python3.6/dist-packages/keras/backend/tensorflow_backend.py:190: The name tf.get_default_session is deprecated. Please use tf.compat.v1.get_default_session instead.\n",
            "\n",
            "WARNING:tensorflow:From /usr/local/lib/python3.6/dist-packages/keras/backend/tensorflow_backend.py:197: The name tf.ConfigProto is deprecated. Please use tf.compat.v1.ConfigProto instead.\n",
            "\n",
            "WARNING:tensorflow:From /usr/local/lib/python3.6/dist-packages/keras/backend/tensorflow_backend.py:207: The name tf.global_variables is deprecated. Please use tf.compat.v1.global_variables instead.\n",
            "\n",
            "WARNING:tensorflow:From /usr/local/lib/python3.6/dist-packages/keras/backend/tensorflow_backend.py:216: The name tf.is_variable_initialized is deprecated. Please use tf.compat.v1.is_variable_initialized instead.\n",
            "\n",
            "WARNING:tensorflow:From /usr/local/lib/python3.6/dist-packages/keras/backend/tensorflow_backend.py:223: The name tf.variables_initializer is deprecated. Please use tf.compat.v1.variables_initializer instead.\n",
            "\n",
            "81/81 [==============================] - 11s 131ms/step - loss: 0.0532\n",
            "Epoch 2/50\n",
            "81/81 [==============================] - 2s 21ms/step - loss: 0.0428\n",
            "Epoch 3/50\n",
            "81/81 [==============================] - 2s 23ms/step - loss: 0.0439\n",
            "Epoch 4/50\n",
            "81/81 [==============================] - 2s 22ms/step - loss: 0.0459\n",
            "Epoch 5/50\n",
            "81/81 [==============================] - 2s 23ms/step - loss: 0.0391\n",
            "Epoch 6/50\n",
            "81/81 [==============================] - 2s 20ms/step - loss: 0.0367\n",
            "Epoch 7/50\n",
            "81/81 [==============================] - 2s 22ms/step - loss: 0.0468\n",
            "Epoch 8/50\n",
            "81/81 [==============================] - 2s 20ms/step - loss: 0.0420\n",
            "Epoch 9/50\n",
            "81/81 [==============================] - 2s 22ms/step - loss: 0.0314\n",
            "Epoch 10/50\n",
            "81/81 [==============================] - 2s 22ms/step - loss: 0.0192\n",
            "Epoch 11/50\n",
            "81/81 [==============================] - 2s 21ms/step - loss: 0.0155\n",
            "Epoch 12/50\n",
            "81/81 [==============================] - 2s 19ms/step - loss: 0.0125\n",
            "Epoch 13/50\n",
            "81/81 [==============================] - 2s 23ms/step - loss: 0.0118\n",
            "Epoch 14/50\n",
            "81/81 [==============================] - 2s 21ms/step - loss: 0.0158\n",
            "Epoch 15/50\n",
            "81/81 [==============================] - 2s 24ms/step - loss: 0.0102\n",
            "Epoch 16/50\n",
            "81/81 [==============================] - 2s 20ms/step - loss: 0.0106\n",
            "Epoch 17/50\n",
            "81/81 [==============================] - 2s 22ms/step - loss: 0.0121\n",
            "Epoch 18/50\n",
            "81/81 [==============================] - 2s 22ms/step - loss: 0.0079\n",
            "Epoch 19/50\n",
            "81/81 [==============================] - 2s 21ms/step - loss: 0.0063\n",
            "Epoch 20/50\n",
            "81/81 [==============================] - 2s 20ms/step - loss: 0.0068\n",
            "Epoch 21/50\n",
            "81/81 [==============================] - 2s 20ms/step - loss: 0.0095\n",
            "Epoch 22/50\n",
            "81/81 [==============================] - 2s 20ms/step - loss: 0.0122\n",
            "Epoch 23/50\n",
            "81/81 [==============================] - 2s 22ms/step - loss: 0.0078\n",
            "Epoch 24/50\n",
            "81/81 [==============================] - 2s 20ms/step - loss: 0.0134\n",
            "Epoch 25/50\n",
            "81/81 [==============================] - 2s 24ms/step - loss: 0.0116\n",
            "Epoch 26/50\n",
            "81/81 [==============================] - 2s 22ms/step - loss: 0.0068\n",
            "Epoch 27/50\n",
            "81/81 [==============================] - 2s 20ms/step - loss: 0.0057\n",
            "Epoch 28/50\n",
            "81/81 [==============================] - 2s 22ms/step - loss: 0.0061\n",
            "Epoch 29/50\n",
            "81/81 [==============================] - 2s 22ms/step - loss: 0.0065\n",
            "Epoch 30/50\n",
            "81/81 [==============================] - 2s 21ms/step - loss: 0.0065\n",
            "Epoch 31/50\n",
            "81/81 [==============================] - 2s 21ms/step - loss: 0.0066\n",
            "Epoch 32/50\n",
            "81/81 [==============================] - 2s 21ms/step - loss: 0.0075\n",
            "Epoch 33/50\n",
            "81/81 [==============================] - 2s 21ms/step - loss: 0.0064\n",
            "Epoch 34/50\n",
            "81/81 [==============================] - 2s 21ms/step - loss: 0.0053\n",
            "Epoch 35/50\n",
            "81/81 [==============================] - 2s 21ms/step - loss: 0.0058\n",
            "Epoch 36/50\n",
            "81/81 [==============================] - 2s 22ms/step - loss: 0.0053\n",
            "Epoch 37/50\n",
            "81/81 [==============================] - 2s 22ms/step - loss: 0.0056\n",
            "Epoch 38/50\n",
            "81/81 [==============================] - 2s 20ms/step - loss: 0.0049\n",
            "Epoch 39/50\n",
            "81/81 [==============================] - 2s 20ms/step - loss: 0.0058\n",
            "Epoch 40/50\n",
            "81/81 [==============================] - 2s 21ms/step - loss: 0.0095\n",
            "Epoch 41/50\n",
            "81/81 [==============================] - 2s 20ms/step - loss: 0.0066\n",
            "Epoch 42/50\n",
            "81/81 [==============================] - 2s 21ms/step - loss: 0.0048\n",
            "Epoch 43/50\n",
            "81/81 [==============================] - 2s 20ms/step - loss: 0.0076\n",
            "Epoch 44/50\n",
            "81/81 [==============================] - 2s 22ms/step - loss: 0.0056\n",
            "Epoch 45/50\n",
            "81/81 [==============================] - 2s 20ms/step - loss: 0.0086\n",
            "Epoch 46/50\n",
            "81/81 [==============================] - 2s 22ms/step - loss: 0.0086\n",
            "Epoch 47/50\n",
            "81/81 [==============================] - 2s 21ms/step - loss: 0.0053\n",
            "Epoch 48/50\n",
            "81/81 [==============================] - 2s 22ms/step - loss: 0.0054\n",
            "Epoch 49/50\n",
            "81/81 [==============================] - 2s 23ms/step - loss: 0.0043\n",
            "Epoch 50/50\n",
            "81/81 [==============================] - 2s 20ms/step - loss: 0.0042\n"
          ],
          "name": "stdout"
        },
        {
          "output_type": "execute_result",
          "data": {
            "text/plain": [
              "<keras.callbacks.History at 0x7f992345b550>"
            ]
          },
          "metadata": {
            "tags": []
          },
          "execution_count": 33
        }
      ]
    },
    {
      "cell_type": "code",
      "metadata": {
        "id": "sslhGy4LLo4t",
        "colab_type": "code",
        "outputId": "7e176ae1-9681-4912-ca45-0fc7ea2314d0",
        "colab": {
          "base_uri": "https://localhost:8080/",
          "height": 35
        }
      },
      "source": [
        "model.history.history.keys()"
      ],
      "execution_count": 34,
      "outputs": [
        {
          "output_type": "execute_result",
          "data": {
            "text/plain": [
              "dict_keys(['loss'])"
            ]
          },
          "metadata": {
            "tags": []
          },
          "execution_count": 34
        }
      ]
    },
    {
      "cell_type": "code",
      "metadata": {
        "id": "NJWG7juWL0un",
        "colab_type": "code",
        "outputId": "41cf4b8f-746e-4f08-8c24-46f8c372bdad",
        "colab": {
          "base_uri": "https://localhost:8080/",
          "height": 351
        }
      },
      "source": [
        "loss_per_epoch = model.history.history['loss']\n",
        "plt.figure(figsize=(15,5))\n",
        "plt.plot(range(len(loss_per_epoch)), loss_per_epoch)\n",
        "plt.ylabel(\"Loss\")\n",
        "plt.xlabel(\"Epochs\")"
      ],
      "execution_count": 35,
      "outputs": [
        {
          "output_type": "execute_result",
          "data": {
            "text/plain": [
              "Text(0.5, 0, 'Epochs')"
            ]
          },
          "metadata": {
            "tags": []
          },
          "execution_count": 35
        },
        {
          "output_type": "display_data",
          "data": {
            "image/png": "[encoded data removed]",
            "text/plain": [
              "<Figure size 1080x360 with 1 Axes>"
            ]
          },
          "metadata": {
            "tags": []
          }
        }
      ]
    },
    {
      "cell_type": "markdown",
      "metadata": {
        "id": "jV4Vch53McLy",
        "colab_type": "text"
      },
      "source": [
        "# Model Evaluation\n",
        "- Evaluate on test data"
      ]
    },
    {
      "cell_type": "code",
      "metadata": {
        "id": "AWd-rHhuL9F0",
        "colab_type": "code",
        "outputId": "aef391a4-4ce4-48b0-da67-4e4b1cb33d5a",
        "colab": {
          "base_uri": "https://localhost:8080/",
          "height": 225
        }
      },
      "source": [
        "first_eval_batch = scaled_train[-12:]\n",
        "first_eval_batch"
      ],
      "execution_count": 36,
      "outputs": [
        {
          "output_type": "execute_result",
          "data": {
            "text/plain": [
              "array([[0.39301628],\n",
              "       [0.66993438],\n",
              "       [0.93194523],\n",
              "       [0.19128251],\n",
              "       [0.12873694],\n",
              "       [0.2198007 ],\n",
              "       [0.25139755],\n",
              "       [0.27845743],\n",
              "       [0.26743903],\n",
              "       [0.2479138 ],\n",
              "       [0.00696751],\n",
              "       [0.35469497]])"
            ]
          },
          "metadata": {
            "tags": []
          },
          "execution_count": 36
        }
      ]
    },
    {
      "cell_type": "code",
      "metadata": {
        "id": "9cSSFYJuMj48",
        "colab_type": "code",
        "colab": {}
      },
      "source": [
        "first_eval_batch = first_eval_batch.reshape(1, n_input, n_features)"
      ],
      "execution_count": 0,
      "outputs": []
    },
    {
      "cell_type": "code",
      "metadata": {
        "id": "Ty0BYdOWMqzB",
        "colab_type": "code",
        "outputId": "b5fc2835-67de-480e-c42c-7db0c8fa3e27",
        "colab": {
          "base_uri": "https://localhost:8080/",
          "height": 35
        }
      },
      "source": [
        "model.predict(first_eval_batch)"
      ],
      "execution_count": 38,
      "outputs": [
        {
          "output_type": "execute_result",
          "data": {
            "text/plain": [
              "array([[0.45176384]], dtype=float32)"
            ]
          },
          "metadata": {
            "tags": []
          },
          "execution_count": 38
        }
      ]
    },
    {
      "cell_type": "code",
      "metadata": {
        "id": "7L5ScQcUMtb4",
        "colab_type": "code",
        "outputId": "89546ec8-4140-44da-f2e6-f2451e420d67",
        "colab": {
          "base_uri": "https://localhost:8080/",
          "height": 35
        }
      },
      "source": [
        "scaled_test[0]"
      ],
      "execution_count": 39,
      "outputs": [
        {
          "output_type": "execute_result",
          "data": {
            "text/plain": [
              "array([0.43814308])"
            ]
          },
          "metadata": {
            "tags": []
          },
          "execution_count": 39
        }
      ]
    },
    {
      "cell_type": "markdown",
      "metadata": {
        "id": "eebNyQSoPVi8",
        "colab_type": "text"
      },
      "source": [
        "# Forecast\n",
        "- on test dataset"
      ]
    },
    {
      "cell_type": "code",
      "metadata": {
        "id": "WjT-gdJcPcBU",
        "colab_type": "code",
        "colab": {}
      },
      "source": [
        "test_predictions = []  # for holding predictions\n",
        "\n",
        "# last n_input points from the training set\n",
        "first_eval_batch = scaled_train[-n_input:]\n",
        "# RNN Timeseriesgenerator requires this shape format\n",
        "current_batch = first_eval_batch.reshape((1, n_input, n_features))\n",
        "\n",
        "for i in range(len(test)):  # forecasting only for the length of the test dataset\n",
        "    \n",
        "    # get prediction 1 time stamp ahead ([0] is for grabbing just the number instead of [array])\n",
        "    current_pred = model.predict(current_batch)[0]\n",
        "    \n",
        "    # store prediction\n",
        "    test_predictions.append(current_pred) \n",
        "    \n",
        "    # update batch to now include prediction and drop first value\n",
        "    current_batch = np.append(current_batch[:,1:,:],[[current_pred]],axis=1)"
      ],
      "execution_count": 0,
      "outputs": []
    },
    {
      "cell_type": "code",
      "metadata": {
        "id": "t4Dsb3ICPlXo",
        "colab_type": "code",
        "outputId": "a92b02e7-db35-4574-85ad-1aa28b44ce9d",
        "colab": {
          "base_uri": "https://localhost:8080/",
          "height": 225
        }
      },
      "source": [
        "test_predictions"
      ],
      "execution_count": 42,
      "outputs": [
        {
          "output_type": "execute_result",
          "data": {
            "text/plain": [
              "[array([0.45176384], dtype=float32),\n",
              " array([0.7237835], dtype=float32),\n",
              " array([0.95313257], dtype=float32),\n",
              " array([0.19944781], dtype=float32),\n",
              " array([0.13149087], dtype=float32),\n",
              " array([0.16595322], dtype=float32),\n",
              " array([0.19250858], dtype=float32),\n",
              " array([0.22743282], dtype=float32),\n",
              " array([0.23828033], dtype=float32),\n",
              " array([0.22756779], dtype=float32),\n",
              " array([0.06342827], dtype=float32),\n",
              " array([0.37729168], dtype=float32)]"
            ]
          },
          "metadata": {
            "tags": []
          },
          "execution_count": 42
        }
      ]
    },
    {
      "cell_type": "code",
      "metadata": {
        "id": "3WLrdhlXPndm",
        "colab_type": "code",
        "outputId": "651e34c8-1307-418d-e3ce-935f70dd301e",
        "colab": {
          "base_uri": "https://localhost:8080/",
          "height": 225
        }
      },
      "source": [
        "scaled_test"
      ],
      "execution_count": 43,
      "outputs": [
        {
          "output_type": "execute_result",
          "data": {
            "text/plain": [
              "array([[ 0.43814308],\n",
              "       [ 0.67066353],\n",
              "       [ 0.89905209],\n",
              "       [ 0.22482379],\n",
              "       [ 0.161306  ],\n",
              "       [ 0.24337681],\n",
              "       [ 0.26047152],\n",
              "       [ 0.24669853],\n",
              "       [ 0.30292473],\n",
              "       [ 0.22077291],\n",
              "       [-0.01296281],\n",
              "       [ 0.34869967]])"
            ]
          },
          "metadata": {
            "tags": []
          },
          "execution_count": 43
        }
      ]
    },
    {
      "cell_type": "markdown",
      "metadata": {
        "id": "ZquFLgMlPxCU",
        "colab_type": "text"
      },
      "source": [
        "# Inverse Transformations & Compare"
      ]
    },
    {
      "cell_type": "code",
      "metadata": {
        "id": "p0h6TocEPo4Q",
        "colab_type": "code",
        "outputId": "f8b3d44b-6d1f-443e-b7ad-14058d465950",
        "colab": {
          "base_uri": "https://localhost:8080/",
          "height": 225
        }
      },
      "source": [
        "true_predictions = scaler.inverse_transform(test_predictions)\n",
        "true_predictions"
      ],
      "execution_count": 44,
      "outputs": [
        {
          "output_type": "execute_result",
          "data": {
            "text/plain": [
              "array([[ 7149.12105897],\n",
              "       [10506.65965462],\n",
              "       [13337.51530892],\n",
              "       [ 4034.78432685],\n",
              "       [ 3195.99182458],\n",
              "       [ 3621.36058134],\n",
              "       [ 3949.13338196],\n",
              "       [ 4380.20326295],\n",
              "       [ 4514.0940654 ],\n",
              "       [ 4381.8692559 ],\n",
              "       [ 2355.89510991],\n",
              "       [ 6229.91119862]])"
            ]
          },
          "metadata": {
            "tags": []
          },
          "execution_count": 44
        }
      ]
    },
    {
      "cell_type": "code",
      "metadata": {
        "id": "UErryPUxPzUQ",
        "colab_type": "code",
        "outputId": "a0df7319-6bbf-4cb2-f0bd-72dd396375b3",
        "colab": {
          "base_uri": "https://localhost:8080/",
          "height": 447
        }
      },
      "source": [
        "test"
      ],
      "execution_count": 45,
      "outputs": [
        {
          "output_type": "execute_result",
          "data": {
            "text/html": [
              "<div>\n",
              "<style scoped>\n",
              "    .dataframe tbody tr th:only-of-type {\n",
              "        vertical-align: middle;\n",
              "    }\n",
              "\n",
              "    .dataframe tbody tr th {\n",
              "        vertical-align: top;\n",
              "    }\n",
              "\n",
              "    .dataframe thead th {\n",
              "        text-align: right;\n",
              "    }\n",
              "</style>\n",
              "<table border=\"1\" class=\"dataframe\">\n",
              "  <thead>\n",
              "    <tr style=\"text-align: right;\">\n",
              "      <th></th>\n",
              "      <th>Sales</th>\n",
              "    </tr>\n",
              "    <tr>\n",
              "      <th>Month</th>\n",
              "      <th></th>\n",
              "    </tr>\n",
              "  </thead>\n",
              "  <tbody>\n",
              "    <tr>\n",
              "      <th>1971-10-01</th>\n",
              "      <td>6981.0</td>\n",
              "    </tr>\n",
              "    <tr>\n",
              "      <th>1971-11-01</th>\n",
              "      <td>9851.0</td>\n",
              "    </tr>\n",
              "    <tr>\n",
              "      <th>1971-12-01</th>\n",
              "      <td>12670.0</td>\n",
              "    </tr>\n",
              "    <tr>\n",
              "      <th>1972-01-01</th>\n",
              "      <td>4348.0</td>\n",
              "    </tr>\n",
              "    <tr>\n",
              "      <th>1972-02-01</th>\n",
              "      <td>3564.0</td>\n",
              "    </tr>\n",
              "    <tr>\n",
              "      <th>1972-03-01</th>\n",
              "      <td>4577.0</td>\n",
              "    </tr>\n",
              "    <tr>\n",
              "      <th>1972-04-01</th>\n",
              "      <td>4788.0</td>\n",
              "    </tr>\n",
              "    <tr>\n",
              "      <th>1972-05-01</th>\n",
              "      <td>4618.0</td>\n",
              "    </tr>\n",
              "    <tr>\n",
              "      <th>1972-06-01</th>\n",
              "      <td>5312.0</td>\n",
              "    </tr>\n",
              "    <tr>\n",
              "      <th>1972-07-01</th>\n",
              "      <td>4298.0</td>\n",
              "    </tr>\n",
              "    <tr>\n",
              "      <th>1972-08-01</th>\n",
              "      <td>1413.0</td>\n",
              "    </tr>\n",
              "    <tr>\n",
              "      <th>1972-09-01</th>\n",
              "      <td>5877.0</td>\n",
              "    </tr>\n",
              "  </tbody>\n",
              "</table>\n",
              "</div>"
            ],
            "text/plain": [
              "              Sales\n",
              "Month              \n",
              "1971-10-01   6981.0\n",
              "1971-11-01   9851.0\n",
              "1971-12-01  12670.0\n",
              "1972-01-01   4348.0\n",
              "1972-02-01   3564.0\n",
              "1972-03-01   4577.0\n",
              "1972-04-01   4788.0\n",
              "1972-05-01   4618.0\n",
              "1972-06-01   5312.0\n",
              "1972-07-01   4298.0\n",
              "1972-08-01   1413.0\n",
              "1972-09-01   5877.0"
            ]
          },
          "metadata": {
            "tags": []
          },
          "execution_count": 45
        }
      ]
    },
    {
      "cell_type": "code",
      "metadata": {
        "id": "SIknT9EQP0ct",
        "colab_type": "code",
        "outputId": "0bc5aac3-ed09-4cac-da50-2a572b402b0a",
        "colab": {
          "base_uri": "https://localhost:8080/",
          "height": 447
        }
      },
      "source": [
        "test['Forecast'] = true_predictions\n",
        "test"
      ],
      "execution_count": 46,
      "outputs": [
        {
          "output_type": "execute_result",
          "data": {
            "text/html": [
              "<div>\n",
              "<style scoped>\n",
              "    .dataframe tbody tr th:only-of-type {\n",
              "        vertical-align: middle;\n",
              "    }\n",
              "\n",
              "    .dataframe tbody tr th {\n",
              "        vertical-align: top;\n",
              "    }\n",
              "\n",
              "    .dataframe thead th {\n",
              "        text-align: right;\n",
              "    }\n",
              "</style>\n",
              "<table border=\"1\" class=\"dataframe\">\n",
              "  <thead>\n",
              "    <tr style=\"text-align: right;\">\n",
              "      <th></th>\n",
              "      <th>Sales</th>\n",
              "      <th>Forecast</th>\n",
              "    </tr>\n",
              "    <tr>\n",
              "      <th>Month</th>\n",
              "      <th></th>\n",
              "      <th></th>\n",
              "    </tr>\n",
              "  </thead>\n",
              "  <tbody>\n",
              "    <tr>\n",
              "      <th>1971-10-01</th>\n",
              "      <td>6981.0</td>\n",
              "      <td>7149.121059</td>\n",
              "    </tr>\n",
              "    <tr>\n",
              "      <th>1971-11-01</th>\n",
              "      <td>9851.0</td>\n",
              "      <td>10506.659655</td>\n",
              "    </tr>\n",
              "    <tr>\n",
              "      <th>1971-12-01</th>\n",
              "      <td>12670.0</td>\n",
              "      <td>13337.515309</td>\n",
              "    </tr>\n",
              "    <tr>\n",
              "      <th>1972-01-01</th>\n",
              "      <td>4348.0</td>\n",
              "      <td>4034.784327</td>\n",
              "    </tr>\n",
              "    <tr>\n",
              "      <th>1972-02-01</th>\n",
              "      <td>3564.0</td>\n",
              "      <td>3195.991825</td>\n",
              "    </tr>\n",
              "    <tr>\n",
              "      <th>1972-03-01</th>\n",
              "      <td>4577.0</td>\n",
              "      <td>3621.360581</td>\n",
              "    </tr>\n",
              "    <tr>\n",
              "      <th>1972-04-01</th>\n",
              "      <td>4788.0</td>\n",
              "      <td>3949.133382</td>\n",
              "    </tr>\n",
              "    <tr>\n",
              "      <th>1972-05-01</th>\n",
              "      <td>4618.0</td>\n",
              "      <td>4380.203263</td>\n",
              "    </tr>\n",
              "    <tr>\n",
              "      <th>1972-06-01</th>\n",
              "      <td>5312.0</td>\n",
              "      <td>4514.094065</td>\n",
              "    </tr>\n",
              "    <tr>\n",
              "      <th>1972-07-01</th>\n",
              "      <td>4298.0</td>\n",
              "      <td>4381.869256</td>\n",
              "    </tr>\n",
              "    <tr>\n",
              "      <th>1972-08-01</th>\n",
              "      <td>1413.0</td>\n",
              "      <td>2355.895110</td>\n",
              "    </tr>\n",
              "    <tr>\n",
              "      <th>1972-09-01</th>\n",
              "      <td>5877.0</td>\n",
              "      <td>6229.911199</td>\n",
              "    </tr>\n",
              "  </tbody>\n",
              "</table>\n",
              "</div>"
            ],
            "text/plain": [
              "              Sales      Forecast\n",
              "Month                            \n",
              "1971-10-01   6981.0   7149.121059\n",
              "1971-11-01   9851.0  10506.659655\n",
              "1971-12-01  12670.0  13337.515309\n",
              "1972-01-01   4348.0   4034.784327\n",
              "1972-02-01   3564.0   3195.991825\n",
              "1972-03-01   4577.0   3621.360581\n",
              "1972-04-01   4788.0   3949.133382\n",
              "1972-05-01   4618.0   4380.203263\n",
              "1972-06-01   5312.0   4514.094065\n",
              "1972-07-01   4298.0   4381.869256\n",
              "1972-08-01   1413.0   2355.895110\n",
              "1972-09-01   5877.0   6229.911199"
            ]
          },
          "metadata": {
            "tags": []
          },
          "execution_count": 46
        }
      ]
    },
    {
      "cell_type": "code",
      "metadata": {
        "id": "QzIkoXrXP-AZ",
        "colab_type": "code",
        "outputId": "002c550a-3146-447d-b067-5d73cce817eb",
        "colab": {
          "base_uri": "https://localhost:8080/",
          "height": 525
        }
      },
      "source": [
        "# visualize forecast\n",
        "test.plot(figsize=(12,8))"
      ],
      "execution_count": 47,
      "outputs": [
        {
          "output_type": "execute_result",
          "data": {
            "text/plain": [
              "<matplotlib.axes._subplots.AxesSubplot at 0x7f99227f4dd8>"
            ]
          },
          "metadata": {
            "tags": []
          },
          "execution_count": 47
        },
        {
          "output_type": "display_data",
          "data": {
            "image/png": "[encoded data removed]",
            "text/plain": [
              "<Figure size 864x576 with 1 Axes>"
            ]
          },
          "metadata": {
            "tags": []
          }
        }
      ]
    },
    {
      "cell_type": "markdown",
      "metadata": {
        "id": "k-rXpU0dXXeJ",
        "colab_type": "text"
      },
      "source": [
        "# Forecast\n",
        "- For 12 months in the future"
      ]
    },
    {
      "cell_type": "markdown",
      "metadata": {
        "id": "uNPIIYkSXbvZ",
        "colab_type": "text"
      },
      "source": [
        "## Train the model on entire dataset"
      ]
    },
    {
      "cell_type": "markdown",
      "metadata": {
        "id": "Ao4NO2k4XqZo",
        "colab_type": "text"
      },
      "source": [
        "### Scale dataset"
      ]
    },
    {
      "cell_type": "code",
      "metadata": {
        "id": "kDh44GjLQCmb",
        "colab_type": "code",
        "colab": {}
      },
      "source": [
        "from sklearn.preprocessing import MinMaxScaler\n",
        "scaler= MinMaxScaler()"
      ],
      "execution_count": 0,
      "outputs": []
    },
    {
      "cell_type": "code",
      "metadata": {
        "id": "qQN62RvbXzCm",
        "colab_type": "code",
        "colab": {}
      },
      "source": [
        "scaler.fit(df)\n",
        "scaled_data = scaler.transform(df)"
      ],
      "execution_count": 0,
      "outputs": []
    },
    {
      "cell_type": "markdown",
      "metadata": {
        "id": "bORHI6pZX6lO",
        "colab_type": "text"
      },
      "source": [
        "### Time Series Generator"
      ]
    },
    {
      "cell_type": "code",
      "metadata": {
        "id": "HYigp1n3X4XE",
        "colab_type": "code",
        "colab": {}
      },
      "source": [
        "from keras.preprocessing.sequence import TimeseriesGenerator"
      ],
      "execution_count": 0,
      "outputs": []
    },
    {
      "cell_type": "code",
      "metadata": {
        "id": "df8FHzeFYAT6",
        "colab_type": "code",
        "colab": {}
      },
      "source": [
        "# define generator\n",
        "n_input = 12  # define number of batches to predict the consecutive point\n",
        "n_features = 1  # generally will be 1 for time series forecast\n",
        "generator = TimeseriesGenerator(scaled_data, scaled_data, length=n_input, batch_size=1)"
      ],
      "execution_count": 0,
      "outputs": []
    },
    {
      "cell_type": "code",
      "metadata": {
        "id": "KWJuLHwQa2TY",
        "colab_type": "code",
        "outputId": "52abbb7e-e1b3-4d38-9086-a1366e72932b",
        "colab": {
          "base_uri": "https://localhost:8080/",
          "height": 225
        }
      },
      "source": [
        "generator[0]"
      ],
      "execution_count": 52,
      "outputs": [
        {
          "output_type": "execute_result",
          "data": {
            "text/plain": [
              "(array([[[0.11213309],\n",
              "         [0.10069583],\n",
              "         [0.10733424],\n",
              "         [0.10461489],\n",
              "         [0.12261057],\n",
              "         [0.12980885],\n",
              "         [0.06950332],\n",
              "         [0.06390466],\n",
              "         [0.12069103],\n",
              "         [0.23098456],\n",
              "         [0.34799648],\n",
              "         [0.47180677]]]), array([[0.09021835]]))"
            ]
          },
          "metadata": {
            "tags": []
          },
          "execution_count": 52
        }
      ]
    },
    {
      "cell_type": "code",
      "metadata": {
        "id": "XebjkzHsbCNn",
        "colab_type": "code",
        "colab": {}
      },
      "source": [
        "# tuple unpacking for the generator object\n",
        "X,y = generator[0]"
      ],
      "execution_count": 0,
      "outputs": []
    },
    {
      "cell_type": "code",
      "metadata": {
        "id": "IJg6ksLJbVMD",
        "colab_type": "code",
        "outputId": "c2c41fc7-3453-4389-9577-7f4249d51fb4",
        "colab": {
          "base_uri": "https://localhost:8080/",
          "height": 104
        }
      },
      "source": [
        "print(f'Given the Array: \\n{X.flatten()}')\n",
        "print(f'Predict this y: \\n {y}')"
      ],
      "execution_count": 54,
      "outputs": [
        {
          "output_type": "stream",
          "text": [
            "Given the Array: \n",
            "[0.11213309 0.10069583 0.10733424 0.10461489 0.12261057 0.12980885\n",
            " 0.06950332 0.06390466 0.12069103 0.23098456 0.34799648 0.47180677]\n",
            "Predict this y: \n",
            " [[0.09021835]]\n"
          ],
          "name": "stdout"
        }
      ]
    },
    {
      "cell_type": "markdown",
      "metadata": {
        "id": "AWgtbJ6Sb5BE",
        "colab_type": "text"
      },
      "source": [
        "### Create Model"
      ]
    },
    {
      "cell_type": "code",
      "metadata": {
        "id": "MH9pui3KbnA9",
        "colab_type": "code",
        "colab": {}
      },
      "source": [
        "from keras.models import Sequential\n",
        "from keras.layers import Dense, LSTM"
      ],
      "execution_count": 0,
      "outputs": []
    },
    {
      "cell_type": "code",
      "metadata": {
        "id": "aha8WafEcEbM",
        "colab_type": "code",
        "outputId": "07b0e8db-c89e-45c1-a3ae-e197754f9ab5",
        "colab": {
          "base_uri": "https://localhost:8080/",
          "height": 225
        }
      },
      "source": [
        "# define model\n",
        "model = Sequential()\n",
        "model.add(LSTM(100, activation='relu', input_shape=(n_input, n_features)))\n",
        "model.add(Dense(1))\n",
        "model.compile(optimizer='adam', loss='mse')\n",
        "model.summary()"
      ],
      "execution_count": 56,
      "outputs": [
        {
          "output_type": "stream",
          "text": [
            "Model: \"sequential_2\"\n",
            "_________________________________________________________________\n",
            "Layer (type)                 Output Shape              Param #   \n",
            "=================================================================\n",
            "lstm_2 (LSTM)                (None, 100)               40800     \n",
            "_________________________________________________________________\n",
            "dense_2 (Dense)              (None, 1)                 101       \n",
            "=================================================================\n",
            "Total params: 40,901\n",
            "Trainable params: 40,901\n",
            "Non-trainable params: 0\n",
            "_________________________________________________________________\n"
          ],
          "name": "stdout"
        }
      ]
    },
    {
      "cell_type": "code",
      "metadata": {
        "id": "tOOlOi1Eca0r",
        "colab_type": "code",
        "outputId": "1621a868-9d91-4e7c-a989-db0fe387264f",
        "colab": {
          "base_uri": "https://localhost:8080/",
          "height": 1000
        }
      },
      "source": [
        "# fit model\n",
        "model.fit_generator(generator, epochs=50)"
      ],
      "execution_count": 57,
      "outputs": [
        {
          "output_type": "stream",
          "text": [
            "Epoch 1/50\n",
            "93/93 [==============================] - 3s 27ms/step - loss: 0.0630\n",
            "Epoch 2/50\n",
            "93/93 [==============================] - 2s 22ms/step - loss: 0.0431\n",
            "Epoch 3/50\n",
            "93/93 [==============================] - 2s 21ms/step - loss: 0.0390\n",
            "Epoch 4/50\n",
            "93/93 [==============================] - 2s 22ms/step - loss: 0.0285\n",
            "Epoch 5/50\n",
            "93/93 [==============================] - 2s 24ms/step - loss: 0.0323\n",
            "Epoch 6/50\n",
            "93/93 [==============================] - 2s 20ms/step - loss: 0.0524\n",
            "Epoch 7/50\n",
            "93/93 [==============================] - 2s 22ms/step - loss: 0.0308\n",
            "Epoch 8/50\n",
            "93/93 [==============================] - 2s 21ms/step - loss: 0.0292\n",
            "Epoch 9/50\n",
            "93/93 [==============================] - 2s 23ms/step - loss: 0.0264\n",
            "Epoch 10/50\n",
            "93/93 [==============================] - 2s 25ms/step - loss: 0.0174\n",
            "Epoch 11/50\n",
            "93/93 [==============================] - 2s 23ms/step - loss: 0.0166\n",
            "Epoch 12/50\n",
            "93/93 [==============================] - 2s 21ms/step - loss: 0.0144\n",
            "Epoch 13/50\n",
            "93/93 [==============================] - 2s 20ms/step - loss: 0.0227\n",
            "Epoch 14/50\n",
            "93/93 [==============================] - 2s 23ms/step - loss: 0.0138\n",
            "Epoch 15/50\n",
            "93/93 [==============================] - 2s 22ms/step - loss: 0.0144\n",
            "Epoch 16/50\n",
            "93/93 [==============================] - 2s 23ms/step - loss: 0.0131\n",
            "Epoch 17/50\n",
            "93/93 [==============================] - 2s 23ms/step - loss: 0.0133\n",
            "Epoch 18/50\n",
            "93/93 [==============================] - 2s 23ms/step - loss: 0.0133\n",
            "Epoch 19/50\n",
            "93/93 [==============================] - 2s 22ms/step - loss: 0.0090\n",
            "Epoch 20/50\n",
            "93/93 [==============================] - 2s 21ms/step - loss: 0.0085\n",
            "Epoch 21/50\n",
            "93/93 [==============================] - 2s 20ms/step - loss: 0.0087\n",
            "Epoch 22/50\n",
            "93/93 [==============================] - 2s 23ms/step - loss: 0.0085\n",
            "Epoch 23/50\n",
            "93/93 [==============================] - 2s 21ms/step - loss: 0.0067\n",
            "Epoch 24/50\n",
            "93/93 [==============================] - 2s 23ms/step - loss: 0.0065\n",
            "Epoch 25/50\n",
            "93/93 [==============================] - 2s 21ms/step - loss: 0.0053\n",
            "Epoch 26/50\n",
            "93/93 [==============================] - 2s 22ms/step - loss: 0.0067\n",
            "Epoch 27/50\n",
            "93/93 [==============================] - 2s 20ms/step - loss: 0.0058\n",
            "Epoch 28/50\n",
            "93/93 [==============================] - 2s 22ms/step - loss: 0.0050\n",
            "Epoch 29/50\n",
            "93/93 [==============================] - 2s 23ms/step - loss: 0.0051\n",
            "Epoch 30/50\n",
            "93/93 [==============================] - 2s 23ms/step - loss: 0.0066\n",
            "Epoch 31/50\n",
            "93/93 [==============================] - 2s 20ms/step - loss: 0.0051\n",
            "Epoch 32/50\n",
            "93/93 [==============================] - 2s 23ms/step - loss: 0.0057\n",
            "Epoch 33/50\n",
            "93/93 [==============================] - 2s 23ms/step - loss: 0.0056\n",
            "Epoch 34/50\n",
            "93/93 [==============================] - 2s 23ms/step - loss: 0.0056\n",
            "Epoch 35/50\n",
            "93/93 [==============================] - 2s 23ms/step - loss: 0.0058\n",
            "Epoch 36/50\n",
            "93/93 [==============================] - 2s 23ms/step - loss: 0.0047\n",
            "Epoch 37/50\n",
            "93/93 [==============================] - 2s 23ms/step - loss: 0.0043\n",
            "Epoch 38/50\n",
            "93/93 [==============================] - 2s 23ms/step - loss: 0.0045\n",
            "Epoch 39/50\n",
            "93/93 [==============================] - 2s 21ms/step - loss: 0.0052\n",
            "Epoch 40/50\n",
            "93/93 [==============================] - 2s 24ms/step - loss: 0.0047\n",
            "Epoch 41/50\n",
            "93/93 [==============================] - 2s 23ms/step - loss: 0.0066\n",
            "Epoch 42/50\n",
            "93/93 [==============================] - 2s 21ms/step - loss: 0.0051\n",
            "Epoch 43/50\n",
            "93/93 [==============================] - 2s 20ms/step - loss: 0.0048\n",
            "Epoch 44/50\n",
            "93/93 [==============================] - 2s 23ms/step - loss: 0.0055\n",
            "Epoch 45/50\n",
            "93/93 [==============================] - 2s 21ms/step - loss: 0.0048\n",
            "Epoch 46/50\n",
            "93/93 [==============================] - 2s 21ms/step - loss: 0.0056\n",
            "Epoch 47/50\n",
            "93/93 [==============================] - 2s 23ms/step - loss: 0.0063\n",
            "Epoch 48/50\n",
            "93/93 [==============================] - 2s 21ms/step - loss: 0.0050\n",
            "Epoch 49/50\n",
            "93/93 [==============================] - 2s 21ms/step - loss: 0.0051\n",
            "Epoch 50/50\n",
            "93/93 [==============================] - 2s 22ms/step - loss: 0.0044\n"
          ],
          "name": "stdout"
        },
        {
          "output_type": "execute_result",
          "data": {
            "text/plain": [
              "<keras.callbacks.History at 0x7f99227f9be0>"
            ]
          },
          "metadata": {
            "tags": []
          },
          "execution_count": 57
        }
      ]
    },
    {
      "cell_type": "code",
      "metadata": {
        "id": "L79fwh2tcg76",
        "colab_type": "code",
        "outputId": "e1dcbf4f-5790-451a-aae7-77cbfe035cb7",
        "colab": {
          "base_uri": "https://localhost:8080/",
          "height": 35
        }
      },
      "source": [
        "model.history.history.keys()"
      ],
      "execution_count": 58,
      "outputs": [
        {
          "output_type": "execute_result",
          "data": {
            "text/plain": [
              "dict_keys(['loss'])"
            ]
          },
          "metadata": {
            "tags": []
          },
          "execution_count": 58
        }
      ]
    },
    {
      "cell_type": "code",
      "metadata": {
        "id": "iaKEGnKgckaS",
        "colab_type": "code",
        "outputId": "28d9dd21-e7eb-494d-adb6-4ad12dff09b7",
        "colab": {
          "base_uri": "https://localhost:8080/",
          "height": 351
        }
      },
      "source": [
        "loss_per_epoch = model.history.history['loss']\n",
        "plt.figure(figsize=(15,5))\n",
        "plt.plot(range(len(loss_per_epoch)), loss_per_epoch)\n",
        "plt.xlabel('Epochs')\n",
        "plt.ylabel('Loss')"
      ],
      "execution_count": 59,
      "outputs": [
        {
          "output_type": "execute_result",
          "data": {
            "text/plain": [
              "Text(0, 0.5, 'Loss')"
            ]
          },
          "metadata": {
            "tags": []
          },
          "execution_count": 59
        },
        {
          "output_type": "display_data",
          "data": {
            "image/png": "[encoded data removed]",
            "text/plain": [
              "<Figure size 1080x360 with 1 Axes>"
            ]
          },
          "metadata": {
            "tags": []
          }
        }
      ]
    },
    {
      "cell_type": "markdown",
      "metadata": {
        "id": "svpcQeWic2oD",
        "colab_type": "text"
      },
      "source": [
        "### Forecast into future"
      ]
    },
    {
      "cell_type": "code",
      "metadata": {
        "id": "Ux8y16C7cywI",
        "colab_type": "code",
        "colab": {}
      },
      "source": [
        "predictions = []  # to store forecast values\n",
        "\n",
        "first_eval_batch = scaled_train[-n_input:] # last n_input points from the training set\n",
        "current_batch = first_eval_batch.reshape((1, n_input, n_features))  # RNN Timeseriesgenerator requires this shape format\n",
        "\n",
        "for i in range(len(df)+12):\n",
        "    \n",
        "    # get prediction 1 time stamp ahead ([0] is for grabbing just the number instead of [array])\n",
        "    current_pred = model.predict(current_batch)[0]\n",
        "    \n",
        "    # store prediction\n",
        "    predictions.append(current_pred) \n",
        "    \n",
        "    # update batch to now include prediction and drop first value\n",
        "    current_batch = np.append(current_batch[:,1:,:],[[current_pred]],axis=1)"
      ],
      "execution_count": 0,
      "outputs": []
    },
    {
      "cell_type": "markdown",
      "metadata": {
        "id": "uVeHQ0VJdRS2",
        "colab_type": "text"
      },
      "source": [
        "### Inverse transformations"
      ]
    },
    {
      "cell_type": "code",
      "metadata": {
        "id": "j2HYUQ3_dPG5",
        "colab_type": "code",
        "colab": {}
      },
      "source": [
        "forecast = scaler.inverse_transform(predictions)"
      ],
      "execution_count": 0,
      "outputs": []
    },
    {
      "cell_type": "code",
      "metadata": {
        "id": "jodFnfbide8_",
        "colab_type": "code",
        "colab": {}
      },
      "source": [
        "forecast_df = pd.DataFrame(forecast)"
      ],
      "execution_count": 0,
      "outputs": []
    },
    {
      "cell_type": "code",
      "metadata": {
        "id": "USmf6l8-diLu",
        "colab_type": "code",
        "colab": {}
      },
      "source": [
        "forecast_df.columns = ['sales_forecast']"
      ],
      "execution_count": 0,
      "outputs": []
    },
    {
      "cell_type": "code",
      "metadata": {
        "id": "x73pz1ibd0GE",
        "colab_type": "code",
        "outputId": "4c688917-8c56-4336-f598-f5f7db8d4fc6",
        "colab": {
          "base_uri": "https://localhost:8080/",
          "height": 415
        }
      },
      "source": [
        "forecast_df"
      ],
      "execution_count": 64,
      "outputs": [
        {
          "output_type": "execute_result",
          "data": {
            "text/html": [
              "<div>\n",
              "<style scoped>\n",
              "    .dataframe tbody tr th:only-of-type {\n",
              "        vertical-align: middle;\n",
              "    }\n",
              "\n",
              "    .dataframe tbody tr th {\n",
              "        vertical-align: top;\n",
              "    }\n",
              "\n",
              "    .dataframe thead th {\n",
              "        text-align: right;\n",
              "    }\n",
              "</style>\n",
              "<table border=\"1\" class=\"dataframe\">\n",
              "  <thead>\n",
              "    <tr style=\"text-align: right;\">\n",
              "      <th></th>\n",
              "      <th>sales_forecast</th>\n",
              "    </tr>\n",
              "  </thead>\n",
              "  <tbody>\n",
              "    <tr>\n",
              "      <th>0</th>\n",
              "      <td>7.309749e+03</td>\n",
              "    </tr>\n",
              "    <tr>\n",
              "      <th>1</th>\n",
              "      <td>1.166248e+04</td>\n",
              "    </tr>\n",
              "    <tr>\n",
              "      <th>2</th>\n",
              "      <td>1.536577e+04</td>\n",
              "    </tr>\n",
              "    <tr>\n",
              "      <th>3</th>\n",
              "      <td>4.274440e+03</td>\n",
              "    </tr>\n",
              "    <tr>\n",
              "      <th>4</th>\n",
              "      <td>3.398236e+03</td>\n",
              "    </tr>\n",
              "    <tr>\n",
              "      <th>...</th>\n",
              "      <td>...</td>\n",
              "    </tr>\n",
              "    <tr>\n",
              "      <th>112</th>\n",
              "      <td>5.407847e+13</td>\n",
              "    </tr>\n",
              "    <tr>\n",
              "      <th>113</th>\n",
              "      <td>3.830581e+13</td>\n",
              "    </tr>\n",
              "    <tr>\n",
              "      <th>114</th>\n",
              "      <td>1.202639e+14</td>\n",
              "    </tr>\n",
              "    <tr>\n",
              "      <th>115</th>\n",
              "      <td>9.046984e+13</td>\n",
              "    </tr>\n",
              "    <tr>\n",
              "      <th>116</th>\n",
              "      <td>4.116991e+14</td>\n",
              "    </tr>\n",
              "  </tbody>\n",
              "</table>\n",
              "<p>117 rows × 1 columns</p>\n",
              "</div>"
            ],
            "text/plain": [
              "     sales_forecast\n",
              "0      7.309749e+03\n",
              "1      1.166248e+04\n",
              "2      1.536577e+04\n",
              "3      4.274440e+03\n",
              "4      3.398236e+03\n",
              "..              ...\n",
              "112    5.407847e+13\n",
              "113    3.830581e+13\n",
              "114    1.202639e+14\n",
              "115    9.046984e+13\n",
              "116    4.116991e+14\n",
              "\n",
              "[117 rows x 1 columns]"
            ]
          },
          "metadata": {
            "tags": []
          },
          "execution_count": 64
        }
      ]
    },
    {
      "cell_type": "code",
      "metadata": {
        "id": "4cDwYa5C0X0b",
        "colab_type": "code",
        "outputId": "a61bd4b9-d8fc-4619-face-0c0fb2ebb185",
        "colab": {
          "base_uri": "https://localhost:8080/",
          "height": 35
        }
      },
      "source": [
        "len(df)"
      ],
      "execution_count": 65,
      "outputs": [
        {
          "output_type": "execute_result",
          "data": {
            "text/plain": [
              "105"
            ]
          },
          "metadata": {
            "tags": []
          },
          "execution_count": 65
        }
      ]
    },
    {
      "cell_type": "code",
      "metadata": {
        "id": "vIgUA1Cm3r69",
        "colab_type": "code",
        "colab": {
          "base_uri": "https://localhost:8080/",
          "height": 202
        },
        "outputId": "e63e5156-a472-42c4-b47e-da2b06b3756c"
      },
      "source": [
        "forecast_df.tail()"
      ],
      "execution_count": 71,
      "outputs": [
        {
          "output_type": "execute_result",
          "data": {
            "text/html": [
              "<div>\n",
              "<style scoped>\n",
              "    .dataframe tbody tr th:only-of-type {\n",
              "        vertical-align: middle;\n",
              "    }\n",
              "\n",
              "    .dataframe tbody tr th {\n",
              "        vertical-align: top;\n",
              "    }\n",
              "\n",
              "    .dataframe thead th {\n",
              "        text-align: right;\n",
              "    }\n",
              "</style>\n",
              "<table border=\"1\" class=\"dataframe\">\n",
              "  <thead>\n",
              "    <tr style=\"text-align: right;\">\n",
              "      <th></th>\n",
              "      <th>sales_forecast</th>\n",
              "    </tr>\n",
              "  </thead>\n",
              "  <tbody>\n",
              "    <tr>\n",
              "      <th>112</th>\n",
              "      <td>5.407847e+13</td>\n",
              "    </tr>\n",
              "    <tr>\n",
              "      <th>113</th>\n",
              "      <td>3.830581e+13</td>\n",
              "    </tr>\n",
              "    <tr>\n",
              "      <th>114</th>\n",
              "      <td>1.202639e+14</td>\n",
              "    </tr>\n",
              "    <tr>\n",
              "      <th>115</th>\n",
              "      <td>9.046984e+13</td>\n",
              "    </tr>\n",
              "    <tr>\n",
              "      <th>116</th>\n",
              "      <td>4.116991e+14</td>\n",
              "    </tr>\n",
              "  </tbody>\n",
              "</table>\n",
              "</div>"
            ],
            "text/plain": [
              "     sales_forecast\n",
              "112    5.407847e+13\n",
              "113    3.830581e+13\n",
              "114    1.202639e+14\n",
              "115    9.046984e+13\n",
              "116    4.116991e+14"
            ]
          },
          "metadata": {
            "tags": []
          },
          "execution_count": 71
        }
      ]
    },
    {
      "cell_type": "code",
      "metadata": {
        "id": "eMbST2Ar0Pm_",
        "colab_type": "code",
        "colab": {}
      },
      "source": [
        "# df_new = pd.concat(df, forecast_df)\n",
        "# df_new.tail(15)"
      ],
      "execution_count": 0,
      "outputs": []
    },
    {
      "cell_type": "code",
      "metadata": {
        "id": "XkLFJC2ueMUP",
        "colab_type": "code",
        "outputId": "f1d4b21d-a862-4f49-810b-2dc90bf8c2c8",
        "colab": {
          "base_uri": "https://localhost:8080/",
          "height": 665
        }
      },
      "source": [
        "df['Sales'].plot(figsize=(15,5), legend=True)\n",
        "# predictions.plot(legend=True)\n",
        "forecast_df.plot(figsize=(15,5), legend=True)"
      ],
      "execution_count": 73,
      "outputs": [
        {
          "output_type": "execute_result",
          "data": {
            "text/plain": [
              "<matplotlib.axes._subplots.AxesSubplot at 0x7f9921cbe160>"
            ]
          },
          "metadata": {
            "tags": []
          },
          "execution_count": 73
        },
        {
          "output_type": "display_data",
          "data": {
            "image/png": "[encoded data removed]",
            "text/plain": [
              "<Figure size 1080x360 with 1 Axes>"
            ]
          },
          "metadata": {
            "tags": []
          }
        },
        {
          "output_type": "display_data",
          "data": {
            "image/png": "[encoded data removed]",
            "text/plain": [
              "<Figure size 1080x360 with 1 Axes>"
            ]
          },
          "metadata": {
            "tags": []
          }
        }
      ]
    },
    {
      "cell_type": "code",
      "metadata": {
        "id": "GHbAUFcXeqcu",
        "colab_type": "code",
        "colab": {}
      },
      "source": [
        ""
      ],
      "execution_count": 0,
      "outputs": []
    }
  ]
}